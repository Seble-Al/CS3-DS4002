{
 "cells": [
  {
   "cell_type": "code",
   "execution_count": null,
   "id": "7db3343d-f3d0-435a-8483-a60cd51e67f9",
   "metadata": {
    "tags": []
   },
   "outputs": [],
   "source": [
    "# load necessary libraries. install what you don't have\n",
    "import numpy as np\n",
    "import pandas as pd\n",
    "import matplotlib.pyplot as plt\n",
    "import json\n",
    "import requests\n",
    "import time\n",
    "\n"
   ]
  },
  {
   "cell_type": "markdown",
   "id": "b0aab575-862b-459d-9814-c9608abe6d0c",
   "metadata": {
    "tags": []
   },
   "source": [
    "## Testing out the MET Museum API\n"
   ]
  },
  {
   "cell_type": "markdown",
   "id": "368f9cd8",
   "metadata": {},
   "source": [
    "Refer to [metmuseum.github.io] (metmuseum.github.io) for guidelines on MET museum API search queries "
   ]
  },
  {
   "cell_type": "code",
   "execution_count": null,
   "id": "c5890bea-b72b-4dce-9258-0812e95240e2",
   "metadata": {
    "tags": []
   },
   "outputs": [],
   "source": [
    "'''\n",
    "The following function takes data from a specific department in the MET museum. This can help with organizing your data, but is not required\n",
    "a = department name\n",
    "b = department number \n",
    "c = how many samples you want\n",
    "'''\n",
    "def get_image_data(a, b, c): #input is in department number and department name\n",
    "    url_test = \"https://collectionapi.metmuseum.org/public/collection/v1\"\n",
    "    departments = (\"/search?departmentId=\" + str(a) +\"&hasImages=true&dateBegin=1800&dateEnd=2000&q=\" + b)\n",
    "    response = requests.get(url_test+departments)\n",
    "    if response.status_code == 200 :\n",
    "        print(\"API request successful!\")\n",
    "        data = response.json()\n",
    "    else:\n",
    "        print(\"Failed to retrieve data: {response.status_code}\")\n",
    "\n",
    "    print(\"Total Items Retrieved From \" + b + \" department: \" + str(data['total']))\n",
    "    \n",
    "    img_url = []\n",
    "    date_list = []\n",
    "    domainList = []\n",
    "    ID_list = data['objectIDs']\n",
    "    \n",
    "    index_val = 0 # if the distribution of years is wonky might want to consider random selection?\n",
    "    counter_val = 0\n",
    "\n",
    "    while counter_val <c: #set sample size\n",
    "        object_id = ID_list[index_val]\n",
    "\n",
    "        url_object = \"https://collectionapi.metmuseum.org/public/collection/v1/objects/\" \n",
    "\n",
    "        reponse_object = requests.get(url_object+str(object_id))\n",
    "\n",
    "        if reponse_object.status_code == 200:\n",
    "            data_ob = reponse_object.json()\n",
    "\n",
    "            image_url = data_ob['primaryImage']\n",
    "            if image_url != \"\" and data_ob.get(\"isPublicDomain\"):\n",
    "                img_url.append(image_url)\n",
    "                date_val=data_ob['objectBeginDate']\n",
    "                date_list.append(date_val)\n",
    "                domainList.append(data_ob.get(\"isPublicDomain\"))\n",
    "            \n",
    "                index_val+= 1\n",
    "                counter_val+= 1\n",
    "            else:\n",
    "                index_val+=1\n",
    "                counter_val=counter_val\n",
    "            \n",
    "            \n",
    "            \n",
    "            #conditional statement \n",
    "\n",
    "            #img_rep = requests.get(image_url).content\n",
    "            #img = plt.imread(io.BytesIO(img_rep), format='JPG')\n",
    "            #plt.imshow(img)\n",
    "\n",
    "        # and this can be read directly as a np array i g? \n",
    "        else:\n",
    "            #print(\"Failed to retrieve url\")\n",
    "            index_val+= 1\n",
    "            counter_val= counter_val \n",
    "            \n",
    "\n",
    "        \n",
    "        time.sleep(0.05)\n",
    "    df = {'Year': date_list,\n",
    "        'URL': img_url,\n",
    "        'isPublic' : domainList\n",
    "        }\n",
    "    df = pd.DataFrame(df)   \n",
    "    df['Type'] = b\n",
    "    return df\n",
    "  "
   ]
  },
  {
   "cell_type": "code",
   "execution_count": null,
   "id": "b926ecfe-2486-41e1-a800-67b55cfaefc0",
   "metadata": {
    "tags": []
   },
   "outputs": [
    {
     "data": {
      "text/plain": [
       "\"\\nimg_rep = requests.get(image_url).content\\n    img = plt.imread(io.BytesIO(img_rep), format='JPG')\\n    plt.imshow(img)\\n\""
      ]
     },
     "execution_count": 11,
     "metadata": {},
     "output_type": "execute_result"
    }
   ],
   "source": [
    "# code to show an image/process image characteristics.\n",
    "'''\n",
    "\n",
    "img_rep = requests.get(image_url).content\n",
    "    img = plt.imread(io.BytesIO(img_rep), format='JPG')\n",
    "    plt.imshow(img)\n",
    "'''"
   ]
  },
  {
   "cell_type": "code",
   "execution_count": null,
   "id": "d0adc857-afae-490b-b25b-d730a4d18668",
   "metadata": {
    "tags": []
   },
   "outputs": [
    {
     "data": {
      "text/html": [
       "<div>\n",
       "<style scoped>\n",
       "    .dataframe tbody tr th:only-of-type {\n",
       "        vertical-align: middle;\n",
       "    }\n",
       "\n",
       "    .dataframe tbody tr th {\n",
       "        vertical-align: top;\n",
       "    }\n",
       "\n",
       "    .dataframe thead th {\n",
       "        text-align: right;\n",
       "    }\n",
       "</style>\n",
       "<table border=\"1\" class=\"dataframe\">\n",
       "  <thead>\n",
       "    <tr style=\"text-align: right;\">\n",
       "      <th></th>\n",
       "      <th>Year</th>\n",
       "      <th>URL</th>\n",
       "      <th>isPublic</th>\n",
       "      <th>Type</th>\n",
       "    </tr>\n",
       "  </thead>\n",
       "  <tbody>\n",
       "    <tr>\n",
       "      <th>0</th>\n",
       "      <td>1866</td>\n",
       "      <td>https://images.metmuseum.org/CRDImages/ep/orig...</td>\n",
       "      <td>True</td>\n",
       "      <td>painting</td>\n",
       "    </tr>\n",
       "    <tr>\n",
       "      <th>1</th>\n",
       "      <td>1804</td>\n",
       "      <td>https://images.metmuseum.org/CRDImages/ep/orig...</td>\n",
       "      <td>True</td>\n",
       "      <td>painting</td>\n",
       "    </tr>\n",
       "    <tr>\n",
       "      <th>2</th>\n",
       "      <td>1804</td>\n",
       "      <td>https://images.metmuseum.org/CRDImages/ep/orig...</td>\n",
       "      <td>True</td>\n",
       "      <td>painting</td>\n",
       "    </tr>\n",
       "    <tr>\n",
       "      <th>3</th>\n",
       "      <td>1846</td>\n",
       "      <td>https://images.metmuseum.org/CRDImages/ep/orig...</td>\n",
       "      <td>True</td>\n",
       "      <td>painting</td>\n",
       "    </tr>\n",
       "    <tr>\n",
       "      <th>4</th>\n",
       "      <td>1810</td>\n",
       "      <td>https://images.metmuseum.org/CRDImages/ep/orig...</td>\n",
       "      <td>True</td>\n",
       "      <td>painting</td>\n",
       "    </tr>\n",
       "  </tbody>\n",
       "</table>\n",
       "</div>"
      ],
      "text/plain": [
       "   Year                                                URL  isPublic      Type\n",
       "0  1866  https://images.metmuseum.org/CRDImages/ep/orig...      True  painting\n",
       "1  1804  https://images.metmuseum.org/CRDImages/ep/orig...      True  painting\n",
       "2  1804  https://images.metmuseum.org/CRDImages/ep/orig...      True  painting\n",
       "3  1846  https://images.metmuseum.org/CRDImages/ep/orig...      True  painting\n",
       "4  1810  https://images.metmuseum.org/CRDImages/ep/orig...      True  painting"
      ]
     },
     "execution_count": 13,
     "metadata": {},
     "output_type": "execute_result"
    }
   ],
   "source": [
    "pt_url_list.head()\n"
   ]
  },
  {
   "cell_type": "code",
   "execution_count": null,
   "id": "d79768f5",
   "metadata": {},
   "outputs": [
    {
     "name": "stderr",
     "output_type": "stream",
     "text": [
      "Fetching image dimensions: 100%|██████████| 10/10 [00:07<00:00,  1.43it/s]\n",
      "Fetching image dimensions: 100%|██████████| 10/10 [00:05<00:00,  1.86it/s]"
     ]
    },
    {
     "name": "stdout",
     "output_type": "stream",
     "text": [
      "Average Painting Size (10 samples): 2873.3 x 3670.7 pixels\n",
      "Average Drawing Size (10 samples): 2602.0 x 3152.8 pixels\n"
     ]
    },
    {
     "name": "stderr",
     "output_type": "stream",
     "text": [
      "\n"
     ]
    }
   ],
   "source": [
    "from PIL import Image\n",
    "from io import BytesIO\n",
    "from tqdm import tqdm\n",
    "\n",
    "# this code chunk lets you check the image dimensions of your dataset\n",
    "\n",
    "def get_width(img):\n",
    "    if img is not None:\n",
    "        return img.width\n",
    "    return None\n",
    "\n",
    "def get_height(img):\n",
    "    if img is not None:\n",
    "        return img.height\n",
    "    return None\n",
    "\n",
    "\n",
    "def fetch_image_dimensions(df):\n",
    "    widths = []\n",
    "    heights = []\n",
    "\n",
    "    for url in tqdm(df['URL'], desc=\"Fetching image dimensions\"):\n",
    "        time.sleep(0.05)\n",
    "        try:\n",
    "            response = requests.get(url, timeout=5)\n",
    "            img = Image.open(BytesIO(response.content))\n",
    "            widths.append(img.width)\n",
    "            heights.append(img.height)\n",
    "        except Exception as e:\n",
    "            print(f\"Failed to fetch {url}: {e}\")\n",
    "            widths.append(None)\n",
    "            heights.append(None)\n",
    "    \n",
    "    df = df.copy()\n",
    "    df['width'] = widths\n",
    "    df['height'] = heights\n",
    "    return df\n"
   ]
  }
 ],
 "metadata": {
  "kernelspec": {
   "display_name": "Python 3 (ipykernel)",
   "language": "python",
   "name": "python3"
  },
  "language_info": {
   "codemirror_mode": {
    "name": "ipython",
    "version": 3
   },
   "file_extension": ".py",
   "mimetype": "text/x-python",
   "name": "python",
   "nbconvert_exporter": "python",
   "pygments_lexer": "ipython3",
   "version": "3.9.6"
  },
  "vscode": {
   "interpreter": {
    "hash": "aee8b7b246df8f9039afb4144a1f6fd8d2ca17a180786b69acc140d282b71a49"
   }
  }
 },
 "nbformat": 4,
 "nbformat_minor": 5
}
